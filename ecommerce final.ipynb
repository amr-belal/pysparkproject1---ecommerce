{
 "cells": [
  {
   "cell_type": "markdown",
   "metadata": {},
   "source": [
    "####  load dataset "
   ]
  },
  {
   "cell_type": "code",
   "execution_count": 31,
   "metadata": {},
   "outputs": [],
   "source": [
    "from  pyspark.sql import SparkSession\n",
    "from pyspark.sql import *\n",
    "from pyspark.sql.functions import countDistinct\n",
    "from pyspark.sql import functions as f\n",
    "# from pyspark.sql.functions import isNull\n",
    "from pyspark.sql.functions import col, udf ,desc\n",
    "import pyspark.sql.types as t\n",
    "from pyspark.sql.types import *"
   ]
  },
  {
   "cell_type": "code",
   "execution_count": 4,
   "metadata": {},
   "outputs": [],
   "source": [
    "spark=SparkSession.builder.appName(\"mycsv_file\").getOrCreate()"
   ]
  },
  {
   "cell_type": "markdown",
   "metadata": {},
   "source": [
    "* read csv file "
   ]
  },
  {
   "cell_type": "code",
   "execution_count": 5,
   "metadata": {},
   "outputs": [],
   "source": [
    "df= spark .read.csv(\"ecommerce_customer_data_large.csv\" ,header=True)\n"
   ]
  },
  {
   "cell_type": "markdown",
   "metadata": {},
   "source": [
    "* show our data set "
   ]
  },
  {
   "cell_type": "code",
   "execution_count": 6,
   "metadata": {},
   "outputs": [
    {
     "name": "stdout",
     "output_type": "stream",
     "text": [
      "+-----------+-------------------+----------------+-------------+--------+---------------------+--------------+------------+-------+--------------+---+------+-----+\n",
      "|Customer ID|      Purchase Date|Product Category|Product Price|Quantity|Total Purchase Amount|Payment Method|Customer Age|Returns| Customer Name|Age|Gender|Churn|\n",
      "+-----------+-------------------+----------------+-------------+--------+---------------------+--------------+------------+-------+--------------+---+------+-----+\n",
      "|      44605|2023-05-03 21:30:02|            Home|          177|       1|                 2427|        PayPal|          31|    1.0|   John Rivera| 31|Female|    0|\n",
      "|      44605|2021-05-16 13:57:44|     Electronics|          174|       3|                 2448|        PayPal|          31|    1.0|   John Rivera| 31|Female|    0|\n",
      "|      44605|2020-07-13 06:16:57|           Books|          413|       1|                 2345|   Credit Card|          31|    1.0|   John Rivera| 31|Female|    0|\n",
      "|      44605|2023-01-17 13:14:36|     Electronics|          396|       3|                  937|          Cash|          31|    0.0|   John Rivera| 31|Female|    0|\n",
      "|      44605|2021-05-01 11:29:27|           Books|          259|       4|                 2598|        PayPal|          31|    1.0|   John Rivera| 31|Female|    0|\n",
      "|      13738|2022-08-25 06:48:33|            Home|          191|       3|                 3722|   Credit Card|          27|    1.0|Lauren Johnson| 27|Female|    0|\n",
      "|      13738|2023-07-25 05:17:24|     Electronics|          205|       1|                 2773|   Credit Card|          27|   NULL|Lauren Johnson| 27|Female|    0|\n",
      "|      13738|2023-02-05 19:31:48|           Books|          370|       5|                 1486|          Cash|          27|    1.0|Lauren Johnson| 27|Female|    0|\n",
      "|      13738|2021-12-21 03:29:05|            Home|           12|       2|                 2175|          Cash|          27|   NULL|Lauren Johnson| 27|Female|    0|\n",
      "|      13738|2023-02-09 00:53:14|     Electronics|           40|       4|                 4327|          Cash|          27|    0.0|Lauren Johnson| 27|Female|    0|\n",
      "|      33969|2023-02-28 19:58:23|        Clothing|          410|       3|                 5018|   Credit Card|          27|   NULL|   Carol Allen| 27|  Male|    0|\n",
      "|      33969|2023-01-05 11:15:27|            Home|          304|       1|                 3883|        PayPal|          27|    1.0|   Carol Allen| 27|  Male|    0|\n",
      "|      33969|2023-07-18 23:36:50|           Books|           54|       2|                 4187|        PayPal|          27|    0.0|   Carol Allen| 27|  Male|    0|\n",
      "|      33969|2021-12-20 23:44:57|     Electronics|          428|       4|                 2289|          Cash|          27|    0.0|   Carol Allen| 27|  Male|    0|\n",
      "|      33969|2020-03-07 21:31:35|           Books|          281|       1|                 3810|          Cash|          27|    0.0|   Carol Allen| 27|  Male|    0|\n",
      "|      33969|2022-07-21 04:25:44|            Home|          193|       2|                 3198|   Credit Card|          27|    0.0|   Carol Allen| 27|  Male|    0|\n",
      "|      33969|2023-07-05 15:01:04|        Clothing|          473|       3|                 2881|   Credit Card|          27|    1.0|   Carol Allen| 27|  Male|    0|\n",
      "|      42650|2020-10-18 23:38:52|           Books|          127|       5|                 3347|          Cash|          20|    0.0|  Curtis Smith| 20|Female|    0|\n",
      "|      42650|2020-05-17 17:02:36|            Home|          284|       2|                 3531|   Credit Card|          20|    1.0|  Curtis Smith| 20|Female|    0|\n",
      "|      42650|2022-03-18 13:52:08|     Electronics|          256|       2|                 3548|   Credit Card|          20|    0.0|  Curtis Smith| 20|Female|    0|\n",
      "+-----------+-------------------+----------------+-------------+--------+---------------------+--------------+------------+-------+--------------+---+------+-----+\n",
      "only showing top 20 rows\n",
      "\n"
     ]
    },
    {
     "data": {
      "text/plain": [
       "250000"
      ]
     },
     "execution_count": 6,
     "metadata": {},
     "output_type": "execute_result"
    }
   ],
   "source": [
    "df.show()\n",
    "df.count()"
   ]
  },
  {
   "cell_type": "code",
   "execution_count": 7,
   "metadata": {},
   "outputs": [
    {
     "name": "stdout",
     "output_type": "stream",
     "text": [
      "root\n",
      " |-- Customer ID: string (nullable = true)\n",
      " |-- Purchase Date: string (nullable = true)\n",
      " |-- Product Category: string (nullable = true)\n",
      " |-- Product Price: string (nullable = true)\n",
      " |-- Quantity: string (nullable = true)\n",
      " |-- Total Purchase Amount: string (nullable = true)\n",
      " |-- Payment Method: string (nullable = true)\n",
      " |-- Customer Age: string (nullable = true)\n",
      " |-- Returns: string (nullable = true)\n",
      " |-- Customer Name: string (nullable = true)\n",
      " |-- Age: string (nullable = true)\n",
      " |-- Gender: string (nullable = true)\n",
      " |-- Churn: string (nullable = true)\n",
      "\n"
     ]
    }
   ],
   "source": [
    "df.printSchema()"
   ]
  },
  {
   "cell_type": "markdown",
   "metadata": {},
   "source": [
    "#### EDA"
   ]
  },
  {
   "cell_type": "markdown",
   "metadata": {},
   "source": [
    "* let's detect null vaules "
   ]
  },
  {
   "cell_type": "code",
   "execution_count": 8,
   "metadata": {},
   "outputs": [
    {
     "name": "stdout",
     "output_type": "stream",
     "text": [
      "+-------+-----------------+-------------------+----------------+----------------+-----------------+---------------------+--------------+-----------------+------------------+---------------+-----------------+------+------------------+\n",
      "|summary|      Customer ID|      Purchase Date|Product Category|   Product Price|         Quantity|Total Purchase Amount|Payment Method|     Customer Age|           Returns|  Customer Name|              Age|Gender|             Churn|\n",
      "+-------+-----------------+-------------------+----------------+----------------+-----------------+---------------------+--------------+-----------------+------------------+---------------+-----------------+------+------------------+\n",
      "|  count|           250000|             250000|          250000|          250000|           250000|               250000|        250000|           250000|            202618|         250000|           250000|250000|            250000|\n",
      "|   mean|     25017.632092|               NULL|            NULL|      254.742724|         3.004936|          2725.385196|          NULL|        43.798276| 0.500824211077002|           NULL|        43.798276|  NULL|           0.20052|\n",
      "| stddev|14412.51571838549|               NULL|            NULL|141.738104078686|1.414736598036032|   1442.5760947288684|          NULL|15.36491509089092|0.5000005545274467|           NULL|15.36491509089092|  NULL|0.4003902731704199|\n",
      "|    min|                1|2020-01-01 00:07:26|           Books|              10|                1|                  100|          Cash|               18|               0.0|Aaron Alexander|               18|Female|                 0|\n",
      "|    max|             9999|2023-09-13 18:42:49|            Home|              99|                5|                  999|        PayPal|               70|               1.0|      Zoe Young|               70|  Male|                 1|\n",
      "+-------+-----------------+-------------------+----------------+----------------+-----------------+---------------------+--------------+-----------------+------------------+---------------+-----------------+------+------------------+\n",
      "\n"
     ]
    }
   ],
   "source": [
    "df.describe().show()"
   ]
  },
  {
   "cell_type": "code",
   "execution_count": 9,
   "metadata": {},
   "outputs": [
    {
     "name": "stdout",
     "output_type": "stream",
     "text": [
      "+-----------+-------------------+----------------+-------------+--------+---------------------+--------------+------------+-------+--------------+---+------+-----+\n",
      "|Customer ID|      Purchase Date|Product_Category|Product_price|Quantity|Total_Purchase_Amount|Payment Method|Customer_Age|Returns| Customer_Name|Age|Gender|Churn|\n",
      "+-----------+-------------------+----------------+-------------+--------+---------------------+--------------+------------+-------+--------------+---+------+-----+\n",
      "|      44605|2023-05-03 21:30:02|            Home|          177|       1|                 2427|        PayPal|          31|    1.0|   John Rivera| 31|Female|    0|\n",
      "|      44605|2021-05-16 13:57:44|     Electronics|          174|       3|                 2448|        PayPal|          31|    1.0|   John Rivera| 31|Female|    0|\n",
      "|      44605|2020-07-13 06:16:57|           Books|          413|       1|                 2345|   Credit Card|          31|    1.0|   John Rivera| 31|Female|    0|\n",
      "|      44605|2023-01-17 13:14:36|     Electronics|          396|       3|                  937|          Cash|          31|    0.0|   John Rivera| 31|Female|    0|\n",
      "|      44605|2021-05-01 11:29:27|           Books|          259|       4|                 2598|        PayPal|          31|    1.0|   John Rivera| 31|Female|    0|\n",
      "|      13738|2022-08-25 06:48:33|            Home|          191|       3|                 3722|   Credit Card|          27|    1.0|Lauren Johnson| 27|Female|    0|\n",
      "|      13738|2023-07-25 05:17:24|     Electronics|          205|       1|                 2773|   Credit Card|          27|   NULL|Lauren Johnson| 27|Female|    0|\n",
      "|      13738|2023-02-05 19:31:48|           Books|          370|       5|                 1486|          Cash|          27|    1.0|Lauren Johnson| 27|Female|    0|\n",
      "|      13738|2021-12-21 03:29:05|            Home|           12|       2|                 2175|          Cash|          27|   NULL|Lauren Johnson| 27|Female|    0|\n",
      "|      13738|2023-02-09 00:53:14|     Electronics|           40|       4|                 4327|          Cash|          27|    0.0|Lauren Johnson| 27|Female|    0|\n",
      "|      33969|2023-02-28 19:58:23|        Clothing|          410|       3|                 5018|   Credit Card|          27|   NULL|   Carol Allen| 27|  Male|    0|\n",
      "|      33969|2023-01-05 11:15:27|            Home|          304|       1|                 3883|        PayPal|          27|    1.0|   Carol Allen| 27|  Male|    0|\n",
      "|      33969|2023-07-18 23:36:50|           Books|           54|       2|                 4187|        PayPal|          27|    0.0|   Carol Allen| 27|  Male|    0|\n",
      "|      33969|2021-12-20 23:44:57|     Electronics|          428|       4|                 2289|          Cash|          27|    0.0|   Carol Allen| 27|  Male|    0|\n",
      "|      33969|2020-03-07 21:31:35|           Books|          281|       1|                 3810|          Cash|          27|    0.0|   Carol Allen| 27|  Male|    0|\n",
      "|      33969|2022-07-21 04:25:44|            Home|          193|       2|                 3198|   Credit Card|          27|    0.0|   Carol Allen| 27|  Male|    0|\n",
      "|      33969|2023-07-05 15:01:04|        Clothing|          473|       3|                 2881|   Credit Card|          27|    1.0|   Carol Allen| 27|  Male|    0|\n",
      "|      42650|2020-10-18 23:38:52|           Books|          127|       5|                 3347|          Cash|          20|    0.0|  Curtis Smith| 20|Female|    0|\n",
      "|      42650|2020-05-17 17:02:36|            Home|          284|       2|                 3531|   Credit Card|          20|    1.0|  Curtis Smith| 20|Female|    0|\n",
      "|      42650|2022-03-18 13:52:08|     Electronics|          256|       2|                 3548|   Credit Card|          20|    0.0|  Curtis Smith| 20|Female|    0|\n",
      "+-----------+-------------------+----------------+-------------+--------+---------------------+--------------+------------+-------+--------------+---+------+-----+\n",
      "only showing top 20 rows\n",
      "\n"
     ]
    }
   ],
   "source": [
    "df= df.withColumnRenamed(\"Product Category\",\"Product_Category\")\n",
    "df= df.withColumnRenamed(\"Total Purchase Amount\",\"Total_Purchase_Amount\")\n",
    "df= df.withColumnRenamed(\"Total Purchase Amount\",\"Total_Purchase_Amount\")\n",
    "df= df.withColumnRenamed(\"Customer Age\",\"Customer_Age\")\n",
    "df= df.withColumnRenamed(\"Customer Name\",\"Customer_Name\")\n",
    "df= df.withColumnRenamed(\"Product Price\",\"Product_price\")\n",
    "df.show()"
   ]
  },
  {
   "cell_type": "markdown",
   "metadata": {},
   "source": [
    "#### checking null values in a specific column and handling missing values"
   ]
  },
  {
   "cell_type": "markdown",
   "metadata": {},
   "source": [
    "* *RETURNS* column has 47K null values"
   ]
  },
  {
   "cell_type": "code",
   "execution_count": 10,
   "metadata": {},
   "outputs": [
    {
     "data": {
      "text/plain": [
       "47382"
      ]
     },
     "execution_count": 10,
     "metadata": {},
     "output_type": "execute_result"
    }
   ],
   "source": [
    "# Count null values in a specific column\n",
    "null_count = df.filter(df.Returns.isNull()).count()\n",
    "null_count"
   ]
  },
  {
   "cell_type": "markdown",
   "metadata": {},
   "source": [
    "* Count null values in a other columns"
   ]
  },
  {
   "cell_type": "code",
   "execution_count": 11,
   "metadata": {},
   "outputs": [
    {
     "data": {
      "text/plain": [
       "0"
      ]
     },
     "execution_count": 11,
     "metadata": {},
     "output_type": "execute_result"
    }
   ],
   "source": [
    "\n",
    "null_count = df.filter(df.Customer_Age.isNull()).count()\n",
    "null_count"
   ]
  },
  {
   "cell_type": "code",
   "execution_count": 12,
   "metadata": {},
   "outputs": [
    {
     "data": {
      "text/plain": [
       "0"
      ]
     },
     "execution_count": 12,
     "metadata": {},
     "output_type": "execute_result"
    }
   ],
   "source": [
    "# Count null values in a specific column\n",
    "null_count = df.filter(df.Customer_Name.isNull()).count()\n",
    "null_count"
   ]
  },
  {
   "cell_type": "markdown",
   "metadata": {},
   "source": [
    "> drop two columns \"unused columns\" (Returns , Churn)"
   ]
  },
  {
   "cell_type": "markdown",
   "metadata": {},
   "source": [
    "* we have dropped two columns and clean all nul values"
   ]
  },
  {
   "cell_type": "code",
   "execution_count": 13,
   "metadata": {},
   "outputs": [],
   "source": [
    "df=df.drop(\"Returns\")\n",
    "df=df.drop(\"Churn\")"
   ]
  },
  {
   "cell_type": "markdown",
   "metadata": {},
   "source": [
    "* show table after drop two columns"
   ]
  },
  {
   "cell_type": "code",
   "execution_count": 14,
   "metadata": {},
   "outputs": [
    {
     "name": "stdout",
     "output_type": "stream",
     "text": [
      "+-----------+-------------------+----------------+-------------+--------+---------------------+--------------+------------+--------------+---+------+\n",
      "|Customer ID|      Purchase Date|Product_Category|Product_price|Quantity|Total_Purchase_Amount|Payment Method|Customer_Age| Customer_Name|Age|Gender|\n",
      "+-----------+-------------------+----------------+-------------+--------+---------------------+--------------+------------+--------------+---+------+\n",
      "|      44605|2023-05-03 21:30:02|            Home|          177|       1|                 2427|        PayPal|          31|   John Rivera| 31|Female|\n",
      "|      44605|2021-05-16 13:57:44|     Electronics|          174|       3|                 2448|        PayPal|          31|   John Rivera| 31|Female|\n",
      "|      44605|2020-07-13 06:16:57|           Books|          413|       1|                 2345|   Credit Card|          31|   John Rivera| 31|Female|\n",
      "|      44605|2023-01-17 13:14:36|     Electronics|          396|       3|                  937|          Cash|          31|   John Rivera| 31|Female|\n",
      "|      44605|2021-05-01 11:29:27|           Books|          259|       4|                 2598|        PayPal|          31|   John Rivera| 31|Female|\n",
      "|      13738|2022-08-25 06:48:33|            Home|          191|       3|                 3722|   Credit Card|          27|Lauren Johnson| 27|Female|\n",
      "|      13738|2023-07-25 05:17:24|     Electronics|          205|       1|                 2773|   Credit Card|          27|Lauren Johnson| 27|Female|\n",
      "|      13738|2023-02-05 19:31:48|           Books|          370|       5|                 1486|          Cash|          27|Lauren Johnson| 27|Female|\n",
      "|      13738|2021-12-21 03:29:05|            Home|           12|       2|                 2175|          Cash|          27|Lauren Johnson| 27|Female|\n",
      "|      13738|2023-02-09 00:53:14|     Electronics|           40|       4|                 4327|          Cash|          27|Lauren Johnson| 27|Female|\n",
      "|      33969|2023-02-28 19:58:23|        Clothing|          410|       3|                 5018|   Credit Card|          27|   Carol Allen| 27|  Male|\n",
      "|      33969|2023-01-05 11:15:27|            Home|          304|       1|                 3883|        PayPal|          27|   Carol Allen| 27|  Male|\n",
      "|      33969|2023-07-18 23:36:50|           Books|           54|       2|                 4187|        PayPal|          27|   Carol Allen| 27|  Male|\n",
      "|      33969|2021-12-20 23:44:57|     Electronics|          428|       4|                 2289|          Cash|          27|   Carol Allen| 27|  Male|\n",
      "|      33969|2020-03-07 21:31:35|           Books|          281|       1|                 3810|          Cash|          27|   Carol Allen| 27|  Male|\n",
      "|      33969|2022-07-21 04:25:44|            Home|          193|       2|                 3198|   Credit Card|          27|   Carol Allen| 27|  Male|\n",
      "|      33969|2023-07-05 15:01:04|        Clothing|          473|       3|                 2881|   Credit Card|          27|   Carol Allen| 27|  Male|\n",
      "|      42650|2020-10-18 23:38:52|           Books|          127|       5|                 3347|          Cash|          20|  Curtis Smith| 20|Female|\n",
      "|      42650|2020-05-17 17:02:36|            Home|          284|       2|                 3531|   Credit Card|          20|  Curtis Smith| 20|Female|\n",
      "|      42650|2022-03-18 13:52:08|     Electronics|          256|       2|                 3548|   Credit Card|          20|  Curtis Smith| 20|Female|\n",
      "+-----------+-------------------+----------------+-------------+--------+---------------------+--------------+------------+--------------+---+------+\n",
      "only showing top 20 rows\n",
      "\n"
     ]
    }
   ],
   "source": [
    "df.show()"
   ]
  },
  {
   "cell_type": "markdown",
   "metadata": {},
   "source": [
    "#### Groubing and Sorting "
   ]
  },
  {
   "cell_type": "markdown",
   "metadata": {},
   "source": [
    "> sorting customer ID ascendingly "
   ]
  },
  {
   "cell_type": "code",
   "execution_count": 15,
   "metadata": {},
   "outputs": [
    {
     "name": "stdout",
     "output_type": "stream",
     "text": [
      "+-----------+-------------------+----------------+-------------+--------+---------------------+--------------+------------+--------------+---+------+\n",
      "|Customer ID|      Purchase Date|Product_Category|Product_price|Quantity|Total_Purchase_Amount|Payment Method|Customer_Age| Customer_Name|Age|Gender|\n",
      "+-----------+-------------------+----------------+-------------+--------+---------------------+--------------+------------+--------------+---+------+\n",
      "|          1|2021-04-08 18:33:34|           Books|          456|       5|                 5148|   Credit Card|          67| Dominic Cline| 67|Female|\n",
      "|          1|2022-11-29 06:48:25|     Electronics|          459|       5|                  757|   Credit Card|          67| Dominic Cline| 67|Female|\n",
      "|          1|2020-03-04 10:26:02|        Clothing|          205|       5|                  385|          Cash|          67| Dominic Cline| 67|Female|\n",
      "|         10|2022-07-06 12:30:15|           Books|          113|       5|                 4841|          Cash|          49|   Thomas Carr| 49|Female|\n",
      "|         10|2022-04-06 21:29:32|           Books|          312|       5|                 1384|          Cash|          49|   Thomas Carr| 49|Female|\n",
      "|         10|2023-02-16 01:17:01|     Electronics|          191|       3|                 1163|   Credit Card|          49|   Thomas Carr| 49|Female|\n",
      "|         10|2022-01-31 00:29:16|     Electronics|          413|       4|                  994|   Credit Card|          49|   Thomas Carr| 49|Female|\n",
      "|         10|2023-05-06 04:06:27|     Electronics|          182|       2|                 2635|          Cash|          49|   Thomas Carr| 49|Female|\n",
      "|         10|2020-08-07 05:14:13|     Electronics|          284|       2|                 4272|          Cash|          49|   Thomas Carr| 49|Female|\n",
      "|         10|2023-03-28 00:26:47|     Electronics|          437|       3|                 4086|          Cash|          49|   Thomas Carr| 49|Female|\n",
      "|         10|2023-04-24 10:51:09|           Books|           50|       2|                 1297|        PayPal|          49|   Thomas Carr| 49|Female|\n",
      "|        100|2022-07-30 11:01:23|            Home|          410|       5|                 1046|   Credit Card|          20|Maurice Miller| 20|Female|\n",
      "|        100|2023-08-22 13:43:02|           Books|          432|       2|                 4494|          Cash|          20|Maurice Miller| 20|Female|\n",
      "|        100|2021-09-27 16:40:23|        Clothing|          231|       3|                  539|   Credit Card|          20|Maurice Miller| 20|Female|\n",
      "|        100|2021-01-28 02:07:08|           Books|           93|       5|                 3275|          Cash|          20|Maurice Miller| 20|Female|\n",
      "|        100|2022-03-20 11:46:02|            Home|          418|       2|                 2771|          Cash|          20|Maurice Miller| 20|Female|\n",
      "|        100|2023-08-22 12:49:06|     Electronics|          236|       5|                 3584|   Credit Card|          20|Maurice Miller| 20|Female|\n",
      "|        100|2023-08-07 09:17:39|        Clothing|          256|       3|                 1979|        PayPal|          20|Maurice Miller| 20|Female|\n",
      "|        100|2023-06-03 13:44:00|           Books|          499|       2|                 2262|          Cash|          20|Maurice Miller| 20|Female|\n",
      "|       1000|2023-08-27 08:27:51|            Home|          330|       3|                 1731|          Cash|          60| Nathan Fields| 60|Female|\n",
      "+-----------+-------------------+----------------+-------------+--------+---------------------+--------------+------------+--------------+---+------+\n",
      "only showing top 20 rows\n",
      "\n"
     ]
    }
   ],
   "source": [
    "df=df.sort(\"Customer ID\")\n",
    "df.show()"
   ]
  },
  {
   "cell_type": "markdown",
   "metadata": {},
   "source": [
    "#### how many customer and how many category has been purchased for each customer"
   ]
  },
  {
   "cell_type": "markdown",
   "metadata": {},
   "source": [
    "* most category used is home categories"
   ]
  },
  {
   "cell_type": "code",
   "execution_count": 16,
   "metadata": {},
   "outputs": [
    {
     "name": "stdout",
     "output_type": "stream",
     "text": [
      "+----------------+-----------------------+\n",
      "|Product_Category|amount product purchase|\n",
      "+----------------+-----------------------+\n",
      "|            Home|                  35752|\n",
      "|     Electronics|                  35713|\n",
      "|        Clothing|                  35654|\n",
      "|           Books|                  35504|\n",
      "+----------------+-----------------------+\n",
      "\n"
     ]
    }
   ],
   "source": [
    "amount_product=df.groupBy(\"Product_Category\").agg(countDistinct(\"Customer ID\").alias(\"amount product purchase\")).show()\n",
    "amount_product"
   ]
  },
  {
   "cell_type": "markdown",
   "metadata": {},
   "source": [
    "* removing dublicates for each customer and category"
   ]
  },
  {
   "cell_type": "markdown",
   "metadata": {},
   "source": [
    "* show number of categories have been purchased by customers"
   ]
  },
  {
   "cell_type": "code",
   "execution_count": 17,
   "metadata": {},
   "outputs": [
    {
     "name": "stdout",
     "output_type": "stream",
     "text": [
      "+-----------+----------------+\n",
      "|Customer ID|Product_Category|\n",
      "+-----------+----------------+\n",
      "|          1|           Books|\n",
      "|          1|        Clothing|\n",
      "|          1|     Electronics|\n",
      "|         10|           Books|\n",
      "|         10|     Electronics|\n",
      "|        100|        Clothing|\n",
      "|        100|           Books|\n",
      "|        100|            Home|\n",
      "|        100|     Electronics|\n",
      "|       1000|     Electronics|\n",
      "|       1000|        Clothing|\n",
      "|       1000|            Home|\n",
      "|      10000|            Home|\n",
      "|      10000|        Clothing|\n",
      "|      10000|           Books|\n",
      "|      10001|           Books|\n",
      "|      10001|     Electronics|\n",
      "|      10003|            Home|\n",
      "|      10003|     Electronics|\n",
      "|      10003|           Books|\n",
      "+-----------+----------------+\n",
      "only showing top 20 rows\n",
      "\n"
     ]
    }
   ],
   "source": [
    "df_dup=df.select([\"Customer ID\" , \"Product_Category\"]).distinct()\n",
    "s=df_dup.sort(\"Customer ID\")\n",
    "s.show()"
   ]
  },
  {
   "cell_type": "markdown",
   "metadata": {},
   "source": [
    "* show number of customers in data set "
   ]
  },
  {
   "cell_type": "code",
   "execution_count": 18,
   "metadata": {},
   "outputs": [
    {
     "data": {
      "text/plain": [
       "49661"
      ]
     },
     "execution_count": 18,
     "metadata": {},
     "output_type": "execute_result"
    }
   ],
   "source": [
    "df.select(\"Customer ID\").distinct().count()"
   ]
  },
  {
   "cell_type": "markdown",
   "metadata": {},
   "source": [
    "\n",
    "#### What is the total price for each customer's purchase"
   ]
  },
  {
   "cell_type": "markdown",
   "metadata": {},
   "source": [
    "* let us create column that returns total price of purchased product"
   ]
  },
  {
   "cell_type": "code",
   "execution_count": 19,
   "metadata": {},
   "outputs": [
    {
     "name": "stdout",
     "output_type": "stream",
     "text": [
      "+-----------+-------------------+----------------+-------------+--------+---------------------+--------------+------------+--------------+---+------+--------------------+\n",
      "|Customer ID|      Purchase Date|Product_Category|Product_price|Quantity|Total_Purchase_Amount|Payment Method|Customer_Age| Customer_Name|Age|Gender|Total_Purchace_Price|\n",
      "+-----------+-------------------+----------------+-------------+--------+---------------------+--------------+------------+--------------+---+------+--------------------+\n",
      "|          1|2021-04-08 18:33:34|           Books|          456|       5|                 5148|   Credit Card|          67| Dominic Cline| 67|Female|           2347488.0|\n",
      "|          1|2022-11-29 06:48:25|     Electronics|          459|       5|                  757|   Credit Card|          67| Dominic Cline| 67|Female|            347463.0|\n",
      "|          1|2020-03-04 10:26:02|        Clothing|          205|       5|                  385|          Cash|          67| Dominic Cline| 67|Female|             78925.0|\n",
      "|         10|2022-07-06 12:30:15|           Books|          113|       5|                 4841|          Cash|          49|   Thomas Carr| 49|Female|            547033.0|\n",
      "|         10|2022-04-06 21:29:32|           Books|          312|       5|                 1384|          Cash|          49|   Thomas Carr| 49|Female|            431808.0|\n",
      "|         10|2023-02-16 01:17:01|     Electronics|          191|       3|                 1163|   Credit Card|          49|   Thomas Carr| 49|Female|            222133.0|\n",
      "|         10|2022-01-31 00:29:16|     Electronics|          413|       4|                  994|   Credit Card|          49|   Thomas Carr| 49|Female|            410522.0|\n",
      "|         10|2023-05-06 04:06:27|     Electronics|          182|       2|                 2635|          Cash|          49|   Thomas Carr| 49|Female|            479570.0|\n",
      "|         10|2020-08-07 05:14:13|     Electronics|          284|       2|                 4272|          Cash|          49|   Thomas Carr| 49|Female|           1213248.0|\n",
      "|         10|2023-03-28 00:26:47|     Electronics|          437|       3|                 4086|          Cash|          49|   Thomas Carr| 49|Female|           1785582.0|\n",
      "|         10|2023-04-24 10:51:09|           Books|           50|       2|                 1297|        PayPal|          49|   Thomas Carr| 49|Female|             64850.0|\n",
      "|        100|2022-07-30 11:01:23|            Home|          410|       5|                 1046|   Credit Card|          20|Maurice Miller| 20|Female|            428860.0|\n",
      "|        100|2023-08-22 13:43:02|           Books|          432|       2|                 4494|          Cash|          20|Maurice Miller| 20|Female|           1941408.0|\n",
      "|        100|2021-09-27 16:40:23|        Clothing|          231|       3|                  539|   Credit Card|          20|Maurice Miller| 20|Female|            124509.0|\n",
      "|        100|2021-01-28 02:07:08|           Books|           93|       5|                 3275|          Cash|          20|Maurice Miller| 20|Female|            304575.0|\n",
      "|        100|2022-03-20 11:46:02|            Home|          418|       2|                 2771|          Cash|          20|Maurice Miller| 20|Female|           1158278.0|\n",
      "|        100|2023-08-22 12:49:06|     Electronics|          236|       5|                 3584|   Credit Card|          20|Maurice Miller| 20|Female|            845824.0|\n",
      "|        100|2023-08-07 09:17:39|        Clothing|          256|       3|                 1979|        PayPal|          20|Maurice Miller| 20|Female|            506624.0|\n",
      "|        100|2023-06-03 13:44:00|           Books|          499|       2|                 2262|          Cash|          20|Maurice Miller| 20|Female|           1128738.0|\n",
      "|       1000|2023-08-27 08:27:51|            Home|          330|       3|                 1731|          Cash|          60| Nathan Fields| 60|Female|            571230.0|\n",
      "+-----------+-------------------+----------------+-------------+--------+---------------------+--------------+------------+--------------+---+------+--------------------+\n",
      "only showing top 20 rows\n",
      "\n"
     ]
    }
   ],
   "source": [
    "df2=df.withColumn(\"Total_Purchace_Price\", col(\"Product_Price\")*col(\"Total_Purchase_Amount\")).show()\n",
    "df2"
   ]
  },
  {
   "cell_type": "markdown",
   "metadata": {},
   "source": [
    "#### what most payment method used"
   ]
  },
  {
   "cell_type": "code",
   "execution_count": 20,
   "metadata": {},
   "outputs": [
    {
     "name": "stdout",
     "output_type": "stream",
     "text": [
      "+--------------+---------------------+\n",
      "|Payment Method|Payment Method amount|\n",
      "+--------------+---------------------+\n",
      "|   Credit Card|                40527|\n",
      "|        PayPal|                40382|\n",
      "|          Cash|                40548|\n",
      "+--------------+---------------------+\n",
      "\n"
     ]
    }
   ],
   "source": [
    "pay_amount = df.groupBy(\"Payment Method\").agg(countDistinct(\"Customer ID\").alias(\"Payment Method amount\")).show()\n",
    "pay_amount"
   ]
  },
  {
   "cell_type": "markdown",
   "metadata": {},
   "source": [
    "* show each customer's payment method used"
   ]
  },
  {
   "cell_type": "code",
   "execution_count": 21,
   "metadata": {},
   "outputs": [
    {
     "name": "stdout",
     "output_type": "stream",
     "text": [
      "+-----------+-----------------------+\n",
      "|Customer ID|customer payment amount|\n",
      "+-----------+-----------------------+\n",
      "|       9583|                      3|\n",
      "|      42370|                      2|\n",
      "|      28334|                      2|\n",
      "|      30966|                      3|\n",
      "|      35374|                      3|\n",
      "|       9030|                      3|\n",
      "|      48402|                      3|\n",
      "|       4032|                      2|\n",
      "|      29865|                      3|\n",
      "|      20219|                      3|\n",
      "|      42688|                      3|\n",
      "|       5925|                      3|\n",
      "|       9009|                      3|\n",
      "|      48147|                      2|\n",
      "|      39457|                      3|\n",
      "|      28503|                      2|\n",
      "|      49290|                      3|\n",
      "|      43085|                      3|\n",
      "|      40740|                      3|\n",
      "|      35670|                      3|\n",
      "+-----------+-----------------------+\n",
      "only showing top 20 rows\n",
      "\n"
     ]
    }
   ],
   "source": [
    "cust_pay_amount=df.groupBy(\"Customer ID\").agg(countDistinct(\"Payment Method\").alias(\"customer payment amount\"))\n",
    "cust_pay_amount.show()"
   ]
  },
  {
   "cell_type": "markdown",
   "metadata": {},
   "source": [
    "#### join new column "
   ]
  },
  {
   "cell_type": "markdown",
   "metadata": {},
   "source": [
    "> let' join Customer Payment amount to our dataset "
   ]
  },
  {
   "cell_type": "code",
   "execution_count": 22,
   "metadata": {},
   "outputs": [
    {
     "name": "stdout",
     "output_type": "stream",
     "text": [
      "+-----------+-------------------+----------------+-------------+--------+---------------------+--------------+------------+--------------+---+------+-----------------------+\n",
      "|Customer ID|      Purchase Date|Product_Category|Product_price|Quantity|Total_Purchase_Amount|Payment Method|Customer_Age| Customer_Name|Age|Gender|customer payment amount|\n",
      "+-----------+-------------------+----------------+-------------+--------+---------------------+--------------+------------+--------------+---+------+-----------------------+\n",
      "|      44605|2023-05-03 21:30:02|            Home|          177|       1|                 2427|        PayPal|          31|   John Rivera| 31|Female|                      3|\n",
      "|      44605|2021-05-16 13:57:44|     Electronics|          174|       3|                 2448|        PayPal|          31|   John Rivera| 31|Female|                      3|\n",
      "|      44605|2020-07-13 06:16:57|           Books|          413|       1|                 2345|   Credit Card|          31|   John Rivera| 31|Female|                      3|\n",
      "|      44605|2023-01-17 13:14:36|     Electronics|          396|       3|                  937|          Cash|          31|   John Rivera| 31|Female|                      3|\n",
      "|      44605|2021-05-01 11:29:27|           Books|          259|       4|                 2598|        PayPal|          31|   John Rivera| 31|Female|                      3|\n",
      "|      13738|2022-08-25 06:48:33|            Home|          191|       3|                 3722|   Credit Card|          27|Lauren Johnson| 27|Female|                      2|\n",
      "|      13738|2023-07-25 05:17:24|     Electronics|          205|       1|                 2773|   Credit Card|          27|Lauren Johnson| 27|Female|                      2|\n",
      "|      13738|2023-02-05 19:31:48|           Books|          370|       5|                 1486|          Cash|          27|Lauren Johnson| 27|Female|                      2|\n",
      "|      13738|2021-12-21 03:29:05|            Home|           12|       2|                 2175|          Cash|          27|Lauren Johnson| 27|Female|                      2|\n",
      "|      13738|2023-02-09 00:53:14|     Electronics|           40|       4|                 4327|          Cash|          27|Lauren Johnson| 27|Female|                      2|\n",
      "|      33969|2023-02-28 19:58:23|        Clothing|          410|       3|                 5018|   Credit Card|          27|   Carol Allen| 27|  Male|                      3|\n",
      "|      33969|2023-01-05 11:15:27|            Home|          304|       1|                 3883|        PayPal|          27|   Carol Allen| 27|  Male|                      3|\n",
      "|      33969|2023-07-18 23:36:50|           Books|           54|       2|                 4187|        PayPal|          27|   Carol Allen| 27|  Male|                      3|\n",
      "|      33969|2021-12-20 23:44:57|     Electronics|          428|       4|                 2289|          Cash|          27|   Carol Allen| 27|  Male|                      3|\n",
      "|      33969|2020-03-07 21:31:35|           Books|          281|       1|                 3810|          Cash|          27|   Carol Allen| 27|  Male|                      3|\n",
      "|      33969|2022-07-21 04:25:44|            Home|          193|       2|                 3198|   Credit Card|          27|   Carol Allen| 27|  Male|                      3|\n",
      "|      33969|2023-07-05 15:01:04|        Clothing|          473|       3|                 2881|   Credit Card|          27|   Carol Allen| 27|  Male|                      3|\n",
      "|      42650|2020-10-18 23:38:52|           Books|          127|       5|                 3347|          Cash|          20|  Curtis Smith| 20|Female|                      3|\n",
      "|      42650|2020-05-17 17:02:36|            Home|          284|       2|                 3531|   Credit Card|          20|  Curtis Smith| 20|Female|                      3|\n",
      "|      42650|2022-03-18 13:52:08|     Electronics|          256|       2|                 3548|   Credit Card|          20|  Curtis Smith| 20|Female|                      3|\n",
      "+-----------+-------------------+----------------+-------------+--------+---------------------+--------------+------------+--------------+---+------+-----------------------+\n",
      "only showing top 20 rows\n",
      "\n"
     ]
    }
   ],
   "source": [
    "df2 = df.join(cust_pay_amount ,on=\"Customer ID\" , how = \"inner\")\n",
    "df2.show()"
   ]
  },
  {
   "cell_type": "markdown",
   "metadata": {},
   "source": [
    "* classify Gender number"
   ]
  },
  {
   "cell_type": "code",
   "execution_count": 23,
   "metadata": {},
   "outputs": [
    {
     "name": "stdout",
     "output_type": "stream",
     "text": [
      "+------+--------------+\n",
      "|Gender|GenderclassNum|\n",
      "+------+--------------+\n",
      "|Female|         24714|\n",
      "|  Male|         24947|\n",
      "+------+--------------+\n",
      "\n"
     ]
    }
   ],
   "source": [
    "gender_amount = df2.groupBy(\"Gender\").agg(countDistinct(\"Customer ID\").alias(\"GenderclassNum\")).show()\n",
    "gender_amount"
   ]
  },
  {
   "cell_type": "code",
   "execution_count": 24,
   "metadata": {},
   "outputs": [
    {
     "name": "stdout",
     "output_type": "stream",
     "text": [
      "+-----------+-------------------------+\n",
      "|Customer ID|DistinctPurchaseDateCount|\n",
      "+-----------+-------------------------+\n",
      "|      39457|                        9|\n",
      "|       9583|                        8|\n",
      "|      21783|                        2|\n",
      "|      27317|                       10|\n",
      "|      35374|                        7|\n",
      "|      40740|                        8|\n",
      "|      28135|                        4|\n",
      "|      42776|                        9|\n",
      "|      28334|                        5|\n",
      "|       1512|                        5|\n",
      "|      16504|                        8|\n",
      "|      35670|                        7|\n",
      "|      32558|                        6|\n",
      "|      29865|                        9|\n",
      "|       9030|                       10|\n",
      "|      49290|                        7|\n",
      "|      17686|                        4|\n",
      "|       9009|                        6|\n",
      "|      43085|                        5|\n",
      "|      20219|                        4|\n",
      "+-----------+-------------------------+\n",
      "only showing top 20 rows\n",
      "\n"
     ]
    }
   ],
   "source": [
    "gender_amount = df2.groupBy(\"Customer ID\").agg(countDistinct(\"Purchase Date\").alias(\"DistinctPurchaseDateCount\"))\n",
    "gender_amount.show()"
   ]
  },
  {
   "cell_type": "markdown",
   "metadata": {},
   "source": [
    "* join DistinctPurchaseDateCount into df2 data set "
   ]
  },
  {
   "cell_type": "code",
   "execution_count": 25,
   "metadata": {},
   "outputs": [
    {
     "name": "stdout",
     "output_type": "stream",
     "text": [
      "+-----------+-------------------+----------------+-------------+--------+---------------------+--------------+------------+--------------+---+------+-----------------------+-------------------------+\n",
      "|Customer ID|      Purchase Date|Product_Category|Product_price|Quantity|Total_Purchase_Amount|Payment Method|Customer_Age| Customer_Name|Age|Gender|customer payment amount|DistinctPurchaseDateCount|\n",
      "+-----------+-------------------+----------------+-------------+--------+---------------------+--------------+------------+--------------+---+------+-----------------------+-------------------------+\n",
      "|      44605|2023-05-03 21:30:02|            Home|          177|       1|                 2427|        PayPal|          31|   John Rivera| 31|Female|                      3|                        5|\n",
      "|      44605|2021-05-16 13:57:44|     Electronics|          174|       3|                 2448|        PayPal|          31|   John Rivera| 31|Female|                      3|                        5|\n",
      "|      44605|2020-07-13 06:16:57|           Books|          413|       1|                 2345|   Credit Card|          31|   John Rivera| 31|Female|                      3|                        5|\n",
      "|      44605|2023-01-17 13:14:36|     Electronics|          396|       3|                  937|          Cash|          31|   John Rivera| 31|Female|                      3|                        5|\n",
      "|      44605|2021-05-01 11:29:27|           Books|          259|       4|                 2598|        PayPal|          31|   John Rivera| 31|Female|                      3|                        5|\n",
      "|      13738|2022-08-25 06:48:33|            Home|          191|       3|                 3722|   Credit Card|          27|Lauren Johnson| 27|Female|                      2|                        5|\n",
      "|      13738|2023-07-25 05:17:24|     Electronics|          205|       1|                 2773|   Credit Card|          27|Lauren Johnson| 27|Female|                      2|                        5|\n",
      "|      13738|2023-02-05 19:31:48|           Books|          370|       5|                 1486|          Cash|          27|Lauren Johnson| 27|Female|                      2|                        5|\n",
      "|      13738|2021-12-21 03:29:05|            Home|           12|       2|                 2175|          Cash|          27|Lauren Johnson| 27|Female|                      2|                        5|\n",
      "|      13738|2023-02-09 00:53:14|     Electronics|           40|       4|                 4327|          Cash|          27|Lauren Johnson| 27|Female|                      2|                        5|\n",
      "|      33969|2023-02-28 19:58:23|        Clothing|          410|       3|                 5018|   Credit Card|          27|   Carol Allen| 27|  Male|                      3|                        7|\n",
      "|      33969|2023-01-05 11:15:27|            Home|          304|       1|                 3883|        PayPal|          27|   Carol Allen| 27|  Male|                      3|                        7|\n",
      "|      33969|2023-07-18 23:36:50|           Books|           54|       2|                 4187|        PayPal|          27|   Carol Allen| 27|  Male|                      3|                        7|\n",
      "|      33969|2021-12-20 23:44:57|     Electronics|          428|       4|                 2289|          Cash|          27|   Carol Allen| 27|  Male|                      3|                        7|\n",
      "|      33969|2020-03-07 21:31:35|           Books|          281|       1|                 3810|          Cash|          27|   Carol Allen| 27|  Male|                      3|                        7|\n",
      "|      33969|2022-07-21 04:25:44|            Home|          193|       2|                 3198|   Credit Card|          27|   Carol Allen| 27|  Male|                      3|                        7|\n",
      "|      33969|2023-07-05 15:01:04|        Clothing|          473|       3|                 2881|   Credit Card|          27|   Carol Allen| 27|  Male|                      3|                        7|\n",
      "|      42650|2020-10-18 23:38:52|           Books|          127|       5|                 3347|          Cash|          20|  Curtis Smith| 20|Female|                      3|                       13|\n",
      "|      42650|2020-05-17 17:02:36|            Home|          284|       2|                 3531|   Credit Card|          20|  Curtis Smith| 20|Female|                      3|                       13|\n",
      "|      42650|2022-03-18 13:52:08|     Electronics|          256|       2|                 3548|   Credit Card|          20|  Curtis Smith| 20|Female|                      3|                       13|\n",
      "+-----------+-------------------+----------------+-------------+--------+---------------------+--------------+------------+--------------+---+------+-----------------------+-------------------------+\n",
      "only showing top 20 rows\n",
      "\n"
     ]
    }
   ],
   "source": [
    "df2 = df2.join(gender_amount ,on=\"Customer ID\" , how = \"inner\")\n",
    "df2.show()"
   ]
  },
  {
   "cell_type": "code",
   "execution_count": 26,
   "metadata": {},
   "outputs": [
    {
     "name": "stdout",
     "output_type": "stream",
     "text": [
      "root\n",
      " |-- Customer ID: string (nullable = true)\n",
      " |-- Purchase Date: string (nullable = true)\n",
      " |-- Product_Category: string (nullable = true)\n",
      " |-- Product_price: string (nullable = true)\n",
      " |-- Quantity: string (nullable = true)\n",
      " |-- Total_Purchase_Amount: string (nullable = true)\n",
      " |-- Payment Method: string (nullable = true)\n",
      " |-- Customer_Age: string (nullable = true)\n",
      " |-- Customer_Name: string (nullable = true)\n",
      " |-- Age: string (nullable = true)\n",
      " |-- Gender: string (nullable = true)\n",
      " |-- customer payment amount: long (nullable = false)\n",
      " |-- DistinctPurchaseDateCount: long (nullable = false)\n",
      "\n"
     ]
    }
   ],
   "source": [
    "df2.printSchema()"
   ]
  },
  {
   "cell_type": "markdown",
   "metadata": {},
   "source": [
    "#### Rank With *Payment Method* and order by *customer ID*"
   ]
  },
  {
   "cell_type": "code",
   "execution_count": 27,
   "metadata": {},
   "outputs": [],
   "source": [
    "from pyspark.sql.functions import row_number ,rank ,dense_rank\n",
    "from pyspark.sql.window import Window"
   ]
  },
  {
   "cell_type": "code",
   "execution_count": 28,
   "metadata": {},
   "outputs": [
    {
     "name": "stdout",
     "output_type": "stream",
     "text": [
      "+-----------+-------------------+----------------+-------------+--------+---------------------+--------------+------------+--------------+---+------+-----------------------+-------------------------+\n",
      "|Customer ID|      Purchase Date|Product_Category|Product_price|Quantity|Total_Purchase_Amount|Payment Method|Customer_Age| Customer_Name|Age|Gender|customer payment amount|DistinctPurchaseDateCount|\n",
      "+-----------+-------------------+----------------+-------------+--------+---------------------+--------------+------------+--------------+---+------+-----------------------+-------------------------+\n",
      "|      44605|2023-05-03 21:30:02|            Home|          177|       1|                 2427|        PayPal|          31|   John Rivera| 31|Female|                      3|                        5|\n",
      "|      44605|2021-05-16 13:57:44|     Electronics|          174|       3|                 2448|        PayPal|          31|   John Rivera| 31|Female|                      3|                        5|\n",
      "|      44605|2020-07-13 06:16:57|           Books|          413|       1|                 2345|   Credit Card|          31|   John Rivera| 31|Female|                      3|                        5|\n",
      "|      44605|2023-01-17 13:14:36|     Electronics|          396|       3|                  937|          Cash|          31|   John Rivera| 31|Female|                      3|                        5|\n",
      "|      44605|2021-05-01 11:29:27|           Books|          259|       4|                 2598|        PayPal|          31|   John Rivera| 31|Female|                      3|                        5|\n",
      "|      13738|2022-08-25 06:48:33|            Home|          191|       3|                 3722|   Credit Card|          27|Lauren Johnson| 27|Female|                      2|                        5|\n",
      "|      13738|2023-07-25 05:17:24|     Electronics|          205|       1|                 2773|   Credit Card|          27|Lauren Johnson| 27|Female|                      2|                        5|\n",
      "|      13738|2023-02-05 19:31:48|           Books|          370|       5|                 1486|          Cash|          27|Lauren Johnson| 27|Female|                      2|                        5|\n",
      "|      13738|2021-12-21 03:29:05|            Home|           12|       2|                 2175|          Cash|          27|Lauren Johnson| 27|Female|                      2|                        5|\n",
      "|      13738|2023-02-09 00:53:14|     Electronics|           40|       4|                 4327|          Cash|          27|Lauren Johnson| 27|Female|                      2|                        5|\n",
      "|      33969|2023-02-28 19:58:23|        Clothing|          410|       3|                 5018|   Credit Card|          27|   Carol Allen| 27|  Male|                      3|                        7|\n",
      "|      33969|2023-01-05 11:15:27|            Home|          304|       1|                 3883|        PayPal|          27|   Carol Allen| 27|  Male|                      3|                        7|\n",
      "|      33969|2023-07-18 23:36:50|           Books|           54|       2|                 4187|        PayPal|          27|   Carol Allen| 27|  Male|                      3|                        7|\n",
      "|      33969|2021-12-20 23:44:57|     Electronics|          428|       4|                 2289|          Cash|          27|   Carol Allen| 27|  Male|                      3|                        7|\n",
      "|      33969|2020-03-07 21:31:35|           Books|          281|       1|                 3810|          Cash|          27|   Carol Allen| 27|  Male|                      3|                        7|\n",
      "|      33969|2022-07-21 04:25:44|            Home|          193|       2|                 3198|   Credit Card|          27|   Carol Allen| 27|  Male|                      3|                        7|\n",
      "|      33969|2023-07-05 15:01:04|        Clothing|          473|       3|                 2881|   Credit Card|          27|   Carol Allen| 27|  Male|                      3|                        7|\n",
      "|      42650|2020-10-18 23:38:52|           Books|          127|       5|                 3347|          Cash|          20|  Curtis Smith| 20|Female|                      3|                       13|\n",
      "|      42650|2020-05-17 17:02:36|            Home|          284|       2|                 3531|   Credit Card|          20|  Curtis Smith| 20|Female|                      3|                       13|\n",
      "|      42650|2022-03-18 13:52:08|     Electronics|          256|       2|                 3548|   Credit Card|          20|  Curtis Smith| 20|Female|                      3|                       13|\n",
      "+-----------+-------------------+----------------+-------------+--------+---------------------+--------------+------------+--------------+---+------+-----------------------+-------------------------+\n",
      "only showing top 20 rows\n",
      "\n"
     ]
    }
   ],
   "source": [
    "df2.show()"
   ]
  },
  {
   "cell_type": "code",
   "execution_count": 29,
   "metadata": {},
   "outputs": [
    {
     "name": "stdout",
     "output_type": "stream",
     "text": [
      "+-----------+-------------------+----------------+-------------+--------+---------------------+--------------+------------+--------------------+---+------+-----------------------+-------------------------+----------+\n",
      "|Customer ID|      Purchase Date|Product_Category|Product_price|Quantity|Total_Purchase_Amount|Payment Method|Customer_Age|       Customer_Name|Age|Gender|customer payment amount|DistinctPurchaseDateCount|row number|\n",
      "+-----------+-------------------+----------------+-------------+--------+---------------------+--------------+------------+--------------------+---+------+-----------------------+-------------------------+----------+\n",
      "|          1|2021-04-08 18:33:34|           Books|          456|       5|                 5148|   Credit Card|          67|       Dominic Cline| 67|Female|                      2|                        3|         1|\n",
      "|          1|2022-11-29 06:48:25|     Electronics|          459|       5|                  757|   Credit Card|          67|       Dominic Cline| 67|Female|                      2|                        3|         2|\n",
      "|         10|2023-02-16 01:17:01|     Electronics|          191|       3|                 1163|   Credit Card|          49|         Thomas Carr| 49|Female|                      3|                        8|         3|\n",
      "|         10|2022-01-31 00:29:16|     Electronics|          413|       4|                  994|   Credit Card|          49|         Thomas Carr| 49|Female|                      3|                        8|         4|\n",
      "|        100|2021-09-27 16:40:23|        Clothing|          231|       3|                  539|   Credit Card|          20|      Maurice Miller| 20|Female|                      3|                        8|         5|\n",
      "|        100|2023-08-22 12:49:06|     Electronics|          236|       5|                 3584|   Credit Card|          20|      Maurice Miller| 20|Female|                      3|                        8|         6|\n",
      "|        100|2022-07-30 11:01:23|            Home|          410|       5|                 1046|   Credit Card|          20|      Maurice Miller| 20|Female|                      3|                        8|         7|\n",
      "|       1000|2021-10-26 16:31:17|            Home|          209|       1|                 3228|   Credit Card|          60|       Nathan Fields| 60|Female|                      3|                        7|         8|\n",
      "|      10000|2021-09-12 10:26:01|        Clothing|           63|       1|                 1052|   Credit Card|          61|           Eric Reed| 61|Female|                      3|                        7|         9|\n",
      "|      10000|2021-08-17 12:36:00|            Home|          188|       4|                 2304|   Credit Card|          61|           Eric Reed| 61|Female|                      3|                        7|        10|\n",
      "|      10000|2023-06-20 21:49:33|           Books|          250|       4|                 3706|   Credit Card|          61|           Eric Reed| 61|Female|                      3|                        7|        11|\n",
      "|      10004|2020-10-30 18:59:58|     Electronics|           90|       1|                 2571|   Credit Card|          31|      Matthew Sawyer| 31|  Male|                      3|                        4|        12|\n",
      "|      10004|2021-01-24 06:10:14|        Clothing|           81|       1|                 3533|   Credit Card|          31|      Matthew Sawyer| 31|  Male|                      3|                        4|        13|\n",
      "|      10005|2021-01-05 05:21:43|        Clothing|          229|       1|                 3603|   Credit Card|          70|   Ronnie Richardson| 70|  Male|                      3|                        7|        14|\n",
      "|      10005|2021-11-04 09:19:00|           Books|          397|       3|                 1703|   Credit Card|          70|   Ronnie Richardson| 70|  Male|                      3|                        7|        15|\n",
      "|      10006|2021-03-11 22:46:20|           Books|          164|       2|                 4325|   Credit Card|          35|        Cynthia Long| 35|Female|                      2|                        3|        16|\n",
      "|      10008|2022-06-07 05:55:18|        Clothing|          438|       2|                 3341|   Credit Card|          19|     Alexandra Clark| 19|Female|                      3|                        5|        17|\n",
      "|      10008|2020-04-05 01:51:29|     Electronics|          288|       2|                 4233|   Credit Card|          19|     Alexandra Clark| 19|Female|                      3|                        5|        18|\n",
      "|      10009|2023-05-01 19:49:43|           Books|          393|       4|                 4391|   Credit Card|          47|        John Sanders| 47|  Male|                      3|                        4|        19|\n",
      "|      10010|2022-04-01 02:50:17|            Home|          422|       5|                 3906|   Credit Card|          49|Mrs. Melissa Winters| 49|Female|                      2|                        6|        20|\n",
      "+-----------+-------------------+----------------+-------------+--------+---------------------+--------------+------------+--------------------+---+------+-----------------------+-------------------------+----------+\n",
      "only showing top 20 rows\n",
      "\n"
     ]
    }
   ],
   "source": [
    "widow = Window.partitionBy(\"Payment Method\").orderBy(\"Customer ID\")\n",
    "df2.withColumn(\"row number\", row_number().over(widow)).show()\n"
   ]
  },
  {
   "cell_type": "code",
   "execution_count": null,
   "metadata": {},
   "outputs": [],
   "source": []
  }
 ],
 "metadata": {
  "kernelspec": {
   "display_name": "Python 3",
   "language": "python",
   "name": "python3"
  },
  "language_info": {
   "codemirror_mode": {
    "name": "ipython",
    "version": 3
   },
   "file_extension": ".py",
   "mimetype": "text/x-python",
   "name": "python",
   "nbconvert_exporter": "python",
   "pygments_lexer": "ipython3",
   "version": "3.12.0"
  }
 },
 "nbformat": 4,
 "nbformat_minor": 2
}
